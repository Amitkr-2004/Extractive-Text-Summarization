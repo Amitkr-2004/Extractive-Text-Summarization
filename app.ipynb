{
 "cells": [
  {
   "cell_type": "markdown",
   "id": "6b2420be",
   "metadata": {},
   "source": [
    "Extractive Text Summarization using NLP Techniques"
   ]
  },
  {
   "cell_type": "code",
   "execution_count": 1,
   "id": "d90d38ca",
   "metadata": {},
   "outputs": [],
   "source": [
    "#In Extractive text Summarization, the summary is created by selecting and extracting important sentences or phrases\n",
    "#directly from the original text without any modification  "
   ]
  },
  {
   "cell_type": "code",
   "execution_count": 2,
   "id": "c44170f0",
   "metadata": {},
   "outputs": [],
   "source": [
    "#Text->>\n",
    "\n",
    "text = \"\"\"The Earth plays a vital role in our lives. It provides us with habitat, water, food, etc. \n",
    "The Earth came into existence millions of years ago, and there have been billions of animals and humans that have \n",
    "walked the same Earth as we do now. The Earth is home to over 5 million species of plants and animals, most of which \n",
    "have still not been identified or recorded. Essay on Earth in English is a common subject in schools as it is an \n",
    "important topic for children to think about and discuss. The Earth can be studied and written about in many different \n",
    "ways; you can write about it in terms of climate change, species, land formation, water composition and even the formation \n",
    "of the solar system and Earth’s position in it. The possibilities are endless! Here, we will discuss essay on Earth for\n",
    "class 1, 2 & 3 for kids.\"\"\""
   ]
  },
  {
   "cell_type": "code",
   "execution_count": 3,
   "id": "9c06622b",
   "metadata": {},
   "outputs": [
    {
     "data": {
      "text/plain": [
       "825"
      ]
     },
     "execution_count": 3,
     "metadata": {},
     "output_type": "execute_result"
    }
   ],
   "source": [
    "#Counting Characters in our Text\n",
    "len(text)"
   ]
  },
  {
   "cell_type": "code",
   "execution_count": 4,
   "id": "4f7a3a5d",
   "metadata": {},
   "outputs": [],
   "source": [
    "#Importing all the libraries those are required\n",
    "import spacy\n",
    "\n",
    "#rest 2 libraries we are using for text cleaning\n",
    "from spacy.lang.en.stop_words import STOP_WORDS\n",
    "from string import punctuation"
   ]
  },
  {
   "cell_type": "code",
   "execution_count": 5,
   "id": "50c5deea",
   "metadata": {},
   "outputs": [],
   "source": [
    "nlp = spacy.load('en_core_web_sm')"
   ]
  },
  {
   "cell_type": "code",
   "execution_count": 6,
   "id": "b62e31b8",
   "metadata": {},
   "outputs": [],
   "source": [
    "#Now using the loaded train variable \n",
    "doc = nlp(text)"
   ]
  },
  {
   "cell_type": "code",
   "execution_count": 7,
   "id": "0bbba941",
   "metadata": {},
   "outputs": [
    {
     "data": {
      "text/plain": [
       "The Earth plays a vital role in our lives. It provides us with habitat, water, food, etc. \n",
       "The Earth came into existence millions of years ago, and there have been billions of animals and humans that have \n",
       "walked the same Earth as we do now. The Earth is home to over 5 million species of plants and animals, most of which \n",
       "have still not been identified or recorded. Essay on Earth in English is a common subject in schools as it is an \n",
       "important topic for children to think about and discuss. The Earth can be studied and written about in many different \n",
       "ways; you can write about it in terms of climate change, species, land formation, water composition and even the formation \n",
       "of the solar system and Earth’s position in it. The possibilities are endless! Here, we will discuss essay on Earth for\n",
       "class 1, 2 & 3 for kids."
      ]
     },
     "execution_count": 7,
     "metadata": {},
     "output_type": "execute_result"
    }
   ],
   "source": [
    "doc #All the sentences are stored in it"
   ]
  },
  {
   "cell_type": "code",
   "execution_count": 9,
   "id": "0cf1bdd3",
   "metadata": {},
   "outputs": [],
   "source": [
    "#Now using tokenization and removing stoppers from the text\n",
    "\n",
    "#it is done to filter out common word like punctuation mark \n",
    "tokens=[token.text.lower() for token in doc \n",
    "        if not token.is_stop and not token.is_punct and token.text!='\\n' ]"
   ]
  },
  {
   "cell_type": "code",
   "execution_count": 10,
   "id": "109a4180",
   "metadata": {},
   "outputs": [
    {
     "data": {
      "text/plain": [
       "['earth',\n",
       " 'plays',\n",
       " 'vital',\n",
       " 'role',\n",
       " 'lives',\n",
       " 'provides',\n",
       " 'habitat',\n",
       " 'water',\n",
       " 'food',\n",
       " 'etc',\n",
       " 'earth',\n",
       " 'came',\n",
       " 'existence',\n",
       " 'millions',\n",
       " 'years',\n",
       " 'ago',\n",
       " 'billions',\n",
       " 'animals',\n",
       " 'humans',\n",
       " 'walked',\n",
       " 'earth',\n",
       " 'earth',\n",
       " 'home',\n",
       " '5',\n",
       " 'million',\n",
       " 'species',\n",
       " 'plants',\n",
       " 'animals',\n",
       " 'identified',\n",
       " 'recorded',\n",
       " 'essay',\n",
       " 'earth',\n",
       " 'english',\n",
       " 'common',\n",
       " 'subject',\n",
       " 'schools',\n",
       " 'important',\n",
       " 'topic',\n",
       " 'children',\n",
       " 'think',\n",
       " 'discuss',\n",
       " 'earth',\n",
       " 'studied',\n",
       " 'written',\n",
       " 'different',\n",
       " 'ways',\n",
       " 'write',\n",
       " 'terms',\n",
       " 'climate',\n",
       " 'change',\n",
       " 'species',\n",
       " 'land',\n",
       " 'formation',\n",
       " 'water',\n",
       " 'composition',\n",
       " 'formation',\n",
       " 'solar',\n",
       " 'system',\n",
       " 'earth',\n",
       " 'position',\n",
       " 'possibilities',\n",
       " 'endless',\n",
       " 'discuss',\n",
       " 'essay',\n",
       " 'earth',\n",
       " 'class',\n",
       " '1',\n",
       " '2',\n",
       " '3',\n",
       " 'kids']"
      ]
     },
     "execution_count": 10,
     "metadata": {},
     "output_type": "execute_result"
    }
   ],
   "source": [
    "tokens"
   ]
  },
  {
   "cell_type": "code",
   "execution_count": 11,
   "id": "59e5fa2a",
   "metadata": {},
   "outputs": [],
   "source": [
    "#Another way to find the tokens\n",
    "token1=[]\n",
    "stopWords=list(STOP_WORDS)\n",
    "allowed_pos=['ADJ','PROPN','VERB','NOUN']\n",
    "for token in doc:\n",
    "    if(token.text in stopWords or token.text in punctuation):\n",
    "        continue\n",
    "    if(token.pos_ in allowed_pos):\n",
    "        token1.append(token.text)"
   ]
  },
  {
   "cell_type": "code",
   "execution_count": 15,
   "id": "46924535",
   "metadata": {},
   "outputs": [
    {
     "data": {
      "text/plain": [
       "['Earth',\n",
       " 'plays',\n",
       " 'vital',\n",
       " 'role',\n",
       " 'lives',\n",
       " 'provides',\n",
       " 'habitat',\n",
       " 'water',\n",
       " 'food',\n",
       " 'Earth',\n",
       " 'came',\n",
       " 'existence',\n",
       " 'millions',\n",
       " 'years',\n",
       " 'billions',\n",
       " 'animals',\n",
       " 'humans',\n",
       " 'walked',\n",
       " 'Earth',\n",
       " 'Earth',\n",
       " 'home',\n",
       " 'species',\n",
       " 'plants',\n",
       " 'animals',\n",
       " 'identified',\n",
       " 'recorded',\n",
       " 'Essay',\n",
       " 'Earth',\n",
       " 'English',\n",
       " 'common',\n",
       " 'subject',\n",
       " 'schools',\n",
       " 'important',\n",
       " 'topic',\n",
       " 'children',\n",
       " 'think',\n",
       " 'discuss',\n",
       " 'Earth',\n",
       " 'studied',\n",
       " 'written',\n",
       " 'different',\n",
       " 'ways',\n",
       " 'write',\n",
       " 'terms',\n",
       " 'climate',\n",
       " 'change',\n",
       " 'species',\n",
       " 'land',\n",
       " 'formation',\n",
       " 'water',\n",
       " 'composition',\n",
       " 'formation',\n",
       " 'solar',\n",
       " 'system',\n",
       " 'Earth',\n",
       " 'position',\n",
       " 'possibilities',\n",
       " 'endless',\n",
       " 'discuss',\n",
       " 'essay',\n",
       " 'Earth',\n",
       " 'class',\n",
       " 'kids']"
      ]
     },
     "execution_count": 15,
     "metadata": {},
     "output_type": "execute_result"
    }
   ],
   "source": [
    "token1"
   ]
  },
  {
   "cell_type": "code",
   "execution_count": 16,
   "id": "d63d0736",
   "metadata": {},
   "outputs": [],
   "source": [
    "#Calculating freq of words in tokens\n",
    "from collections import Counter"
   ]
  },
  {
   "cell_type": "code",
   "execution_count": null,
   "id": "0edfc167",
   "metadata": {},
   "outputs": [],
   "source": []
  },
  {
   "cell_type": "code",
   "execution_count": null,
   "id": "2c09b0b0",
   "metadata": {},
   "outputs": [],
   "source": []
  },
  {
   "cell_type": "code",
   "execution_count": null,
   "id": "06761ea1",
   "metadata": {},
   "outputs": [],
   "source": []
  }
 ],
 "metadata": {
  "kernelspec": {
   "display_name": "base",
   "language": "python",
   "name": "python3"
  },
  "language_info": {
   "codemirror_mode": {
    "name": "ipython",
    "version": 3
   },
   "file_extension": ".py",
   "mimetype": "text/x-python",
   "name": "python",
   "nbconvert_exporter": "python",
   "pygments_lexer": "ipython3",
   "version": "3.11.5"
  }
 },
 "nbformat": 4,
 "nbformat_minor": 5
}
