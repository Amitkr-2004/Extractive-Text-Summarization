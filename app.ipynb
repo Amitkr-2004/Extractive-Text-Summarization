{
 "cells": [
  {
   "cell_type": "markdown",
   "id": "6b2420be",
   "metadata": {},
   "source": [
    "Extractive Text Summarization using NLP Techniques"
   ]
  },
  {
   "cell_type": "code",
   "execution_count": 11,
   "id": "d90d38ca",
   "metadata": {},
   "outputs": [],
   "source": [
    "#In Extractive text Summarization, the summary is created by selecting and extracting important sentences or phrases\n",
    "#directly from the original text without any modification  "
   ]
  },
  {
   "cell_type": "code",
   "execution_count": 12,
   "id": "c44170f0",
   "metadata": {},
   "outputs": [],
   "source": [
    "#Text->>\n",
    "\n",
    "text = \"\"\"The Earth plays a vital role in our lives. It provides us with habitat, water, food, etc. \n",
    "The Earth came into existence millions of years ago, and there have been billions of animals and humans that have \n",
    "walked the same Earth as we do now. The Earth is home to over 5 million species of plants and animals, most of which \n",
    "have still not been identified or recorded. Essay on Earth in English is a common subject in schools as it is an \n",
    "important topic for children to think about and discuss. The Earth can be studied and written about in many different \n",
    "ways; you can write about it in terms of climate change, species, land formation, water composition and even the formation \n",
    "of the solar system and Earth’s position in it. The possibilities are endless! Here, we will discuss essay on Earth for\n",
    "class 1, 2 & 3 for kids.\"\"\""
   ]
  },
  {
   "cell_type": "code",
   "execution_count": 13,
   "id": "9c06622b",
   "metadata": {},
   "outputs": [
    {
     "data": {
      "text/plain": [
       "825"
      ]
     },
     "execution_count": 13,
     "metadata": {},
     "output_type": "execute_result"
    }
   ],
   "source": [
    "#Counting Characters in our Text\n",
    "len(text)"
   ]
  },
  {
   "cell_type": "code",
   "execution_count": 14,
   "id": "4f7a3a5d",
   "metadata": {},
   "outputs": [],
   "source": [
    "#Importing all the libraries those are required\n",
    "import spacy\n",
    "\n",
    "#rest 2 libraries we are using for text cleaning\n",
    "from spacy.lang.en.stop_words import STOP_WORDS\n",
    "from string import punctuation"
   ]
  },
  {
   "cell_type": "code",
   "execution_count": 15,
   "id": "50c5deea",
   "metadata": {},
   "outputs": [],
   "source": [
    "nlp = spacy.load('en_core_web_sm')"
   ]
  },
  {
   "cell_type": "code",
   "execution_count": 16,
   "id": "b62e31b8",
   "metadata": {},
   "outputs": [],
   "source": [
    "#Now using the loaded train variable \n",
    "doc = nlp(text)"
   ]
  },
  {
   "cell_type": "code",
   "execution_count": 17,
   "id": "0bbba941",
   "metadata": {},
   "outputs": [
    {
     "data": {
      "text/plain": [
       "The Earth plays a vital role in our lives. It provides us with habitat, water, food, etc. \n",
       "The Earth came into existence millions of years ago, and there have been billions of animals and humans that have \n",
       "walked the same Earth as we do now. The Earth is home to over 5 million species of plants and animals, most of which \n",
       "have still not been identified or recorded. Essay on Earth in English is a common subject in schools as it is an \n",
       "important topic for children to think about and discuss. The Earth can be studied and written about in many different \n",
       "ways; you can write about it in terms of climate change, species, land formation, water composition and even the formation \n",
       "of the solar system and Earth’s position in it. The possibilities are endless! Here, we will discuss essay on Earth for\n",
       "class 1, 2 & 3 for kids."
      ]
     },
     "execution_count": 17,
     "metadata": {},
     "output_type": "execute_result"
    }
   ],
   "source": [
    "doc #All the sentences are stored in it"
   ]
  },
  {
   "cell_type": "code",
   "execution_count": 18,
   "id": "0cf1bdd3",
   "metadata": {},
   "outputs": [],
   "source": [
    "#Now using tokenization and removing stoppers from the text\n",
    "\n",
    "#it is done to filter out common word like punctuation mark \n",
    "tokens=[token.text.lower() for token in doc \n",
    "        if not token.is_stop and not token.is_punct and token.text!='\\n' ]"
   ]
  },
  {
   "cell_type": "code",
   "execution_count": 19,
   "id": "109a4180",
   "metadata": {},
   "outputs": [
    {
     "data": {
      "text/plain": [
       "['earth',\n",
       " 'plays',\n",
       " 'vital',\n",
       " 'role',\n",
       " 'lives',\n",
       " 'provides',\n",
       " 'habitat',\n",
       " 'water',\n",
       " 'food',\n",
       " 'etc',\n",
       " 'earth',\n",
       " 'came',\n",
       " 'existence',\n",
       " 'millions',\n",
       " 'years',\n",
       " 'ago',\n",
       " 'billions',\n",
       " 'animals',\n",
       " 'humans',\n",
       " 'walked',\n",
       " 'earth',\n",
       " 'earth',\n",
       " 'home',\n",
       " '5',\n",
       " 'million',\n",
       " 'species',\n",
       " 'plants',\n",
       " 'animals',\n",
       " 'identified',\n",
       " 'recorded',\n",
       " 'essay',\n",
       " 'earth',\n",
       " 'english',\n",
       " 'common',\n",
       " 'subject',\n",
       " 'schools',\n",
       " 'important',\n",
       " 'topic',\n",
       " 'children',\n",
       " 'think',\n",
       " 'discuss',\n",
       " 'earth',\n",
       " 'studied',\n",
       " 'written',\n",
       " 'different',\n",
       " 'ways',\n",
       " 'write',\n",
       " 'terms',\n",
       " 'climate',\n",
       " 'change',\n",
       " 'species',\n",
       " 'land',\n",
       " 'formation',\n",
       " 'water',\n",
       " 'composition',\n",
       " 'formation',\n",
       " 'solar',\n",
       " 'system',\n",
       " 'earth',\n",
       " 'position',\n",
       " 'possibilities',\n",
       " 'endless',\n",
       " 'discuss',\n",
       " 'essay',\n",
       " 'earth',\n",
       " 'class',\n",
       " '1',\n",
       " '2',\n",
       " '3',\n",
       " 'kids']"
      ]
     },
     "execution_count": 19,
     "metadata": {},
     "output_type": "execute_result"
    }
   ],
   "source": [
    "tokens"
   ]
  },
  {
   "cell_type": "code",
   "execution_count": 20,
   "id": "59e5fa2a",
   "metadata": {},
   "outputs": [],
   "source": [
    "#Another way to find the tokens\n",
    "token1=[]\n",
    "stopWords=list(STOP_WORDS)\n",
    "allowed_pos=['ADJ','PROPN','VERB','NOUN']\n",
    "for token in doc:\n",
    "    if(token.text in stopWords or token.text in punctuation):\n",
    "        continue\n",
    "    if(token.pos_ in allowed_pos):\n",
    "        token1.append(token.text)"
   ]
  },
  {
   "cell_type": "code",
   "execution_count": 21,
   "id": "46924535",
   "metadata": {},
   "outputs": [
    {
     "data": {
      "text/plain": [
       "['Earth',\n",
       " 'plays',\n",
       " 'vital',\n",
       " 'role',\n",
       " 'lives',\n",
       " 'provides',\n",
       " 'habitat',\n",
       " 'water',\n",
       " 'food',\n",
       " 'Earth',\n",
       " 'came',\n",
       " 'existence',\n",
       " 'millions',\n",
       " 'years',\n",
       " 'billions',\n",
       " 'animals',\n",
       " 'humans',\n",
       " 'walked',\n",
       " 'Earth',\n",
       " 'Earth',\n",
       " 'home',\n",
       " 'species',\n",
       " 'plants',\n",
       " 'animals',\n",
       " 'identified',\n",
       " 'recorded',\n",
       " 'Essay',\n",
       " 'Earth',\n",
       " 'English',\n",
       " 'common',\n",
       " 'subject',\n",
       " 'schools',\n",
       " 'important',\n",
       " 'topic',\n",
       " 'children',\n",
       " 'think',\n",
       " 'discuss',\n",
       " 'Earth',\n",
       " 'studied',\n",
       " 'written',\n",
       " 'different',\n",
       " 'ways',\n",
       " 'write',\n",
       " 'terms',\n",
       " 'climate',\n",
       " 'change',\n",
       " 'species',\n",
       " 'land',\n",
       " 'formation',\n",
       " 'water',\n",
       " 'composition',\n",
       " 'formation',\n",
       " 'solar',\n",
       " 'system',\n",
       " 'Earth',\n",
       " 'position',\n",
       " 'possibilities',\n",
       " 'endless',\n",
       " 'discuss',\n",
       " 'essay',\n",
       " 'Earth',\n",
       " 'class',\n",
       " 'kids']"
      ]
     },
     "execution_count": 21,
     "metadata": {},
     "output_type": "execute_result"
    }
   ],
   "source": [
    "token1"
   ]
  },
  {
   "cell_type": "code",
   "execution_count": 22,
   "id": "d63d0736",
   "metadata": {},
   "outputs": [],
   "source": [
    "#Calculating freq of words in tokens\n",
    "from collections import Counter"
   ]
  },
  {
   "cell_type": "code",
   "execution_count": 23,
   "id": "0edfc167",
   "metadata": {},
   "outputs": [],
   "source": [
    "word_freq=Counter(tokens)"
   ]
  },
  {
   "cell_type": "code",
   "execution_count": 24,
   "id": "2c09b0b0",
   "metadata": {},
   "outputs": [
    {
     "data": {
      "text/plain": [
       "Counter({'earth': 8,\n",
       "         'water': 2,\n",
       "         'animals': 2,\n",
       "         'species': 2,\n",
       "         'essay': 2,\n",
       "         'discuss': 2,\n",
       "         'formation': 2,\n",
       "         'plays': 1,\n",
       "         'vital': 1,\n",
       "         'role': 1,\n",
       "         'lives': 1,\n",
       "         'provides': 1,\n",
       "         'habitat': 1,\n",
       "         'food': 1,\n",
       "         'etc': 1,\n",
       "         'came': 1,\n",
       "         'existence': 1,\n",
       "         'millions': 1,\n",
       "         'years': 1,\n",
       "         'ago': 1,\n",
       "         'billions': 1,\n",
       "         'humans': 1,\n",
       "         'walked': 1,\n",
       "         'home': 1,\n",
       "         '5': 1,\n",
       "         'million': 1,\n",
       "         'plants': 1,\n",
       "         'identified': 1,\n",
       "         'recorded': 1,\n",
       "         'english': 1,\n",
       "         'common': 1,\n",
       "         'subject': 1,\n",
       "         'schools': 1,\n",
       "         'important': 1,\n",
       "         'topic': 1,\n",
       "         'children': 1,\n",
       "         'think': 1,\n",
       "         'studied': 1,\n",
       "         'written': 1,\n",
       "         'different': 1,\n",
       "         'ways': 1,\n",
       "         'write': 1,\n",
       "         'terms': 1,\n",
       "         'climate': 1,\n",
       "         'change': 1,\n",
       "         'land': 1,\n",
       "         'composition': 1,\n",
       "         'solar': 1,\n",
       "         'system': 1,\n",
       "         'position': 1,\n",
       "         'possibilities': 1,\n",
       "         'endless': 1,\n",
       "         'class': 1,\n",
       "         '1': 1,\n",
       "         '2': 1,\n",
       "         '3': 1,\n",
       "         'kids': 1})"
      ]
     },
     "execution_count": 24,
     "metadata": {},
     "output_type": "execute_result"
    }
   ],
   "source": [
    "word_freq"
   ]
  },
  {
   "cell_type": "code",
   "execution_count": 25,
   "id": "06761ea1",
   "metadata": {},
   "outputs": [
    {
     "data": {
      "text/plain": [
       "8"
      ]
     },
     "execution_count": 25,
     "metadata": {},
     "output_type": "execute_result"
    }
   ],
   "source": [
    "max_freq=max(word_freq.values())\n",
    "max_freq"
   ]
  },
  {
   "cell_type": "code",
   "execution_count": 26,
   "id": "a7aefa70",
   "metadata": {},
   "outputs": [],
   "source": [
    "#normalized all words\n",
    "for word in word_freq.keys():\n",
    "    word_freq[word]=word_freq[word]/max_freq"
   ]
  },
  {
   "cell_type": "code",
   "execution_count": 27,
   "id": "9911d55c",
   "metadata": {},
   "outputs": [
    {
     "data": {
      "text/plain": [
       "Counter({'earth': 1.0,\n",
       "         'water': 0.25,\n",
       "         'animals': 0.25,\n",
       "         'species': 0.25,\n",
       "         'essay': 0.25,\n",
       "         'discuss': 0.25,\n",
       "         'formation': 0.25,\n",
       "         'plays': 0.125,\n",
       "         'vital': 0.125,\n",
       "         'role': 0.125,\n",
       "         'lives': 0.125,\n",
       "         'provides': 0.125,\n",
       "         'habitat': 0.125,\n",
       "         'food': 0.125,\n",
       "         'etc': 0.125,\n",
       "         'came': 0.125,\n",
       "         'existence': 0.125,\n",
       "         'millions': 0.125,\n",
       "         'years': 0.125,\n",
       "         'ago': 0.125,\n",
       "         'billions': 0.125,\n",
       "         'humans': 0.125,\n",
       "         'walked': 0.125,\n",
       "         'home': 0.125,\n",
       "         '5': 0.125,\n",
       "         'million': 0.125,\n",
       "         'plants': 0.125,\n",
       "         'identified': 0.125,\n",
       "         'recorded': 0.125,\n",
       "         'english': 0.125,\n",
       "         'common': 0.125,\n",
       "         'subject': 0.125,\n",
       "         'schools': 0.125,\n",
       "         'important': 0.125,\n",
       "         'topic': 0.125,\n",
       "         'children': 0.125,\n",
       "         'think': 0.125,\n",
       "         'studied': 0.125,\n",
       "         'written': 0.125,\n",
       "         'different': 0.125,\n",
       "         'ways': 0.125,\n",
       "         'write': 0.125,\n",
       "         'terms': 0.125,\n",
       "         'climate': 0.125,\n",
       "         'change': 0.125,\n",
       "         'land': 0.125,\n",
       "         'composition': 0.125,\n",
       "         'solar': 0.125,\n",
       "         'system': 0.125,\n",
       "         'position': 0.125,\n",
       "         'possibilities': 0.125,\n",
       "         'endless': 0.125,\n",
       "         'class': 0.125,\n",
       "         '1': 0.125,\n",
       "         '2': 0.125,\n",
       "         '3': 0.125,\n",
       "         'kids': 0.125})"
      ]
     },
     "execution_count": 27,
     "metadata": {},
     "output_type": "execute_result"
    }
   ],
   "source": [
    "word_freq"
   ]
  },
  {
   "cell_type": "code",
   "execution_count": 28,
   "id": "ef60ac76",
   "metadata": {},
   "outputs": [],
   "source": [
    "sent_token=[sent.text for sent in doc.sents]"
   ]
  },
  {
   "cell_type": "code",
   "execution_count": 29,
   "id": "9c46feac",
   "metadata": {},
   "outputs": [
    {
     "data": {
      "text/plain": [
       "['The Earth plays a vital role in our lives.',\n",
       " 'It provides us with habitat, water, food, etc. \\n',\n",
       " 'The Earth came into existence millions of years ago, and there have been billions of animals and humans that have \\nwalked the same Earth as we do now.',\n",
       " 'The Earth is home to over 5 million species of plants and animals, most of which \\nhave still not been identified or recorded.',\n",
       " 'Essay on Earth in English is a common subject in schools as it is an \\nimportant topic for children to think about and discuss.',\n",
       " 'The Earth can be studied and written about in many different \\nways; you can write about it in terms of climate change, species, land formation, water composition and even the formation \\nof the solar system and Earth’s position in it.',\n",
       " 'The possibilities are endless!',\n",
       " 'Here, we will discuss essay on Earth for\\nclass 1, 2 & 3 for kids.']"
      ]
     },
     "execution_count": 29,
     "metadata": {},
     "output_type": "execute_result"
    }
   ],
   "source": [
    "sent_token"
   ]
  },
  {
   "cell_type": "code",
   "execution_count": 30,
   "id": "c145e9b0",
   "metadata": {},
   "outputs": [
    {
     "name": "stdout",
     "output_type": "stream",
     "text": [
      "The\n",
      "Earth\n",
      "plays\n",
      "a\n",
      "vital\n",
      "role\n",
      "in\n",
      "our\n",
      "lives.\n",
      "It\n",
      "provides\n",
      "us\n",
      "with\n",
      "habitat,\n",
      "water,\n",
      "food,\n",
      "etc.\n",
      "The\n",
      "Earth\n",
      "came\n",
      "into\n",
      "existence\n",
      "millions\n",
      "of\n",
      "years\n",
      "ago,\n",
      "and\n",
      "there\n",
      "have\n",
      "been\n",
      "billions\n",
      "of\n",
      "animals\n",
      "and\n",
      "humans\n",
      "that\n",
      "have\n",
      "walked\n",
      "the\n",
      "same\n",
      "Earth\n",
      "as\n",
      "we\n",
      "do\n",
      "now.\n",
      "The\n",
      "Earth\n",
      "is\n",
      "home\n",
      "to\n",
      "over\n",
      "5\n",
      "million\n",
      "species\n",
      "of\n",
      "plants\n",
      "and\n",
      "animals,\n",
      "most\n",
      "of\n",
      "which\n",
      "have\n",
      "still\n",
      "not\n",
      "been\n",
      "identified\n",
      "or\n",
      "recorded.\n",
      "Essay\n",
      "on\n",
      "Earth\n",
      "in\n",
      "English\n",
      "is\n",
      "a\n",
      "common\n",
      "subject\n",
      "in\n",
      "schools\n",
      "as\n",
      "it\n",
      "is\n",
      "an\n",
      "important\n",
      "topic\n",
      "for\n",
      "children\n",
      "to\n",
      "think\n",
      "about\n",
      "and\n",
      "discuss.\n",
      "The\n",
      "Earth\n",
      "can\n",
      "be\n",
      "studied\n",
      "and\n",
      "written\n",
      "about\n",
      "in\n",
      "many\n",
      "different\n",
      "ways;\n",
      "you\n",
      "can\n",
      "write\n",
      "about\n",
      "it\n",
      "in\n",
      "terms\n",
      "of\n",
      "climate\n",
      "change,\n",
      "species,\n",
      "land\n",
      "formation,\n",
      "water\n",
      "composition\n",
      "and\n",
      "even\n",
      "the\n",
      "formation\n",
      "of\n",
      "the\n",
      "solar\n",
      "system\n",
      "and\n",
      "Earth’s\n",
      "position\n",
      "in\n",
      "it.\n",
      "The\n",
      "possibilities\n",
      "are\n",
      "endless!\n",
      "Here,\n",
      "we\n",
      "will\n",
      "discuss\n",
      "essay\n",
      "on\n",
      "Earth\n",
      "for\n",
      "class\n",
      "1,\n",
      "2\n",
      "&\n",
      "3\n",
      "for\n",
      "kids.\n"
     ]
    }
   ],
   "source": [
    "#stores the scores of each sentence\n",
    "\n",
    "sent_score={}\n",
    "for sent in sent_token:\n",
    "    for word in sent.split():\n",
    "        if word.lower() in word_freq.keys():\n",
    "            if sent not in sent_score.keys():\n",
    "                sent_score[sent]=word_freq[word]\n",
    "            else:\n",
    "                sent_score[sent]+=word_freq[word]\n",
    "        print(word)"
   ]
  },
  {
   "cell_type": "code",
   "execution_count": 31,
   "id": "69eba9b2",
   "metadata": {},
   "outputs": [
    {
     "data": {
      "text/plain": [
       "{'The Earth plays a vital role in our lives.': 0.375,\n",
       " 'It provides us with habitat, water, food, etc. \\n': 0.125,\n",
       " 'The Earth came into existence millions of years ago, and there have been billions of animals and humans that have \\nwalked the same Earth as we do now.': 1.125,\n",
       " 'The Earth is home to over 5 million species of plants and animals, most of which \\nhave still not been identified or recorded.': 0.875,\n",
       " 'Essay on Earth in English is a common subject in schools as it is an \\nimportant topic for children to think about and discuss.': 0.875,\n",
       " 'The Earth can be studied and written about in many different \\nways; you can write about it in terms of climate change, species, land formation, water composition and even the formation \\nof the solar system and Earth’s position in it.': 1.875,\n",
       " 'The possibilities are endless!': 0.125,\n",
       " 'Here, we will discuss essay on Earth for\\nclass 1, 2 & 3 for kids.': 0.875}"
      ]
     },
     "execution_count": 31,
     "metadata": {},
     "output_type": "execute_result"
    }
   ],
   "source": [
    "sent_score"
   ]
  },
  {
   "cell_type": "code",
   "execution_count": 32,
   "id": "e38fe3cf",
   "metadata": {},
   "outputs": [],
   "source": [
    "import pandas as pd"
   ]
  },
  {
   "cell_type": "code",
   "execution_count": 33,
   "id": "3c893825",
   "metadata": {},
   "outputs": [
    {
     "data": {
      "text/html": [
       "<div>\n",
       "<style scoped>\n",
       "    .dataframe tbody tr th:only-of-type {\n",
       "        vertical-align: middle;\n",
       "    }\n",
       "\n",
       "    .dataframe tbody tr th {\n",
       "        vertical-align: top;\n",
       "    }\n",
       "\n",
       "    .dataframe thead th {\n",
       "        text-align: right;\n",
       "    }\n",
       "</style>\n",
       "<table border=\"1\" class=\"dataframe\">\n",
       "  <thead>\n",
       "    <tr style=\"text-align: right;\">\n",
       "      <th></th>\n",
       "      <th>Sentence</th>\n",
       "      <th>Score</th>\n",
       "    </tr>\n",
       "  </thead>\n",
       "  <tbody>\n",
       "    <tr>\n",
       "      <th>0</th>\n",
       "      <td>The Earth plays a vital role in our lives.</td>\n",
       "      <td>0.375</td>\n",
       "    </tr>\n",
       "    <tr>\n",
       "      <th>1</th>\n",
       "      <td>It provides us with habitat, water, food, etc. \\n</td>\n",
       "      <td>0.125</td>\n",
       "    </tr>\n",
       "    <tr>\n",
       "      <th>2</th>\n",
       "      <td>The Earth came into existence millions of year...</td>\n",
       "      <td>1.125</td>\n",
       "    </tr>\n",
       "    <tr>\n",
       "      <th>3</th>\n",
       "      <td>The Earth is home to over 5 million species of...</td>\n",
       "      <td>0.875</td>\n",
       "    </tr>\n",
       "    <tr>\n",
       "      <th>4</th>\n",
       "      <td>Essay on Earth in English is a common subject ...</td>\n",
       "      <td>0.875</td>\n",
       "    </tr>\n",
       "    <tr>\n",
       "      <th>5</th>\n",
       "      <td>The Earth can be studied and written about in ...</td>\n",
       "      <td>1.875</td>\n",
       "    </tr>\n",
       "    <tr>\n",
       "      <th>6</th>\n",
       "      <td>The possibilities are endless!</td>\n",
       "      <td>0.125</td>\n",
       "    </tr>\n",
       "    <tr>\n",
       "      <th>7</th>\n",
       "      <td>Here, we will discuss essay on Earth for\\nclas...</td>\n",
       "      <td>0.875</td>\n",
       "    </tr>\n",
       "  </tbody>\n",
       "</table>\n",
       "</div>"
      ],
      "text/plain": [
       "                                            Sentence  Score\n",
       "0         The Earth plays a vital role in our lives.  0.375\n",
       "1  It provides us with habitat, water, food, etc. \\n  0.125\n",
       "2  The Earth came into existence millions of year...  1.125\n",
       "3  The Earth is home to over 5 million species of...  0.875\n",
       "4  Essay on Earth in English is a common subject ...  0.875\n",
       "5  The Earth can be studied and written about in ...  1.875\n",
       "6                     The possibilities are endless!  0.125\n",
       "7  Here, we will discuss essay on Earth for\\nclas...  0.875"
      ]
     },
     "execution_count": 33,
     "metadata": {},
     "output_type": "execute_result"
    }
   ],
   "source": [
    "pd.DataFrame(list(sent_score.items()),columns=['Sentence','Score'])"
   ]
  },
  {
   "cell_type": "code",
   "execution_count": null,
   "id": "6add2eaa",
   "metadata": {},
   "outputs": [],
   "source": [
    "from heapq import nlargest"
   ]
  },
  {
   "cell_type": "code",
   "execution_count": 37,
   "id": "155aec4e",
   "metadata": {},
   "outputs": [],
   "source": [
    "num_sentences=3\n",
    "n = nlargest(num_sentences,sent_score,key=sent_score.get)"
   ]
  },
  {
   "cell_type": "code",
   "execution_count": 38,
   "id": "342274b3",
   "metadata": {},
   "outputs": [
    {
     "data": {
      "text/plain": [
       "'The Earth can be studied and written about in many different \\nways; you can write about it in terms of climate change, species, land formation, water composition and even the formation \\nof the solar system and Earth’s position in it. The Earth came into existence millions of years ago, and there have been billions of animals and humans that have \\nwalked the same Earth as we do now. The Earth is home to over 5 million species of plants and animals, most of which \\nhave still not been identified or recorded.'"
      ]
     },
     "execution_count": 38,
     "metadata": {},
     "output_type": "execute_result"
    }
   ],
   "source": [
    "\" \".join(n)"
   ]
  },
  {
   "cell_type": "code",
   "execution_count": null,
   "id": "12f579cf",
   "metadata": {},
   "outputs": [],
   "source": []
  },
  {
   "cell_type": "code",
   "execution_count": null,
   "id": "8e597897",
   "metadata": {},
   "outputs": [],
   "source": []
  }
 ],
 "metadata": {
  "kernelspec": {
   "display_name": ".venv",
   "language": "python",
   "name": "python3"
  },
  "language_info": {
   "codemirror_mode": {
    "name": "ipython",
    "version": 3
   },
   "file_extension": ".py",
   "mimetype": "text/x-python",
   "name": "python",
   "nbconvert_exporter": "python",
   "pygments_lexer": "ipython3",
   "version": "3.12.1"
  }
 },
 "nbformat": 4,
 "nbformat_minor": 5
}
