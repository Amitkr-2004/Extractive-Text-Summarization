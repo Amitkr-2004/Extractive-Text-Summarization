{
 "cells": [
  {
   "cell_type": "markdown",
   "id": "6b2420be",
   "metadata": {},
   "source": [
    "Extractive Text Summarization using NLP Techniques"
   ]
  },
  {
   "cell_type": "code",
   "execution_count": 1,
   "id": "d90d38ca",
   "metadata": {},
   "outputs": [],
   "source": [
    "#In Extractive text Summarization, the summary is created by selecting and extracting important sentences or phrases\n",
    "#directly from the original text without any modification  "
   ]
  },
  {
   "cell_type": "code",
   "execution_count": 2,
   "id": "c44170f0",
   "metadata": {},
   "outputs": [],
   "source": [
    "#Text->>\n",
    "\n",
    "text = \"\"\"The Earth plays a vital role in our lives. It provides us with habitat, water, food, etc. \n",
    "The Earth came into existence millions of years ago, and there have been billions of animals and humans that have \n",
    "walked the same Earth as we do now. The Earth is home to over 5 million species of plants and animals, most of which \n",
    "have still not been identified or recorded. Essay on Earth in English is a common subject in schools as it is an \n",
    "important topic for children to think about and discuss. The Earth can be studied and written about in many different \n",
    "ways; you can write about it in terms of climate change, species, land formation, water composition and even the formation \n",
    "of the solar system and Earth’s position in it. The possibilities are endless! Here, we will discuss essay on Earth for\n",
    "class 1, 2 & 3 for kids.\"\"\""
   ]
  },
  {
   "cell_type": "code",
   "execution_count": 3,
   "id": "9c06622b",
   "metadata": {},
   "outputs": [
    {
     "data": {
      "text/plain": [
       "825"
      ]
     },
     "execution_count": 3,
     "metadata": {},
     "output_type": "execute_result"
    }
   ],
   "source": [
    "#Counting Characters in our Text\n",
    "len(text)"
   ]
  },
  {
   "cell_type": "code",
   "execution_count": 4,
   "id": "4f7a3a5d",
   "metadata": {},
   "outputs": [],
   "source": [
    "#Importing all the libraries those are required\n",
    "import spacy\n",
    "\n",
    "#rest 2 libraries we are using for text cleaning\n",
    "from spacy.lang.en.stop_words import STOP_WORDS\n",
    "from string import punctuation"
   ]
  },
  {
   "cell_type": "code",
   "execution_count": 5,
   "id": "50c5deea",
   "metadata": {},
   "outputs": [],
   "source": [
    "nlp = spacy.load('en_core_web_sm')"
   ]
  },
  {
   "cell_type": "code",
   "execution_count": 6,
   "id": "b62e31b8",
   "metadata": {},
   "outputs": [],
   "source": [
    "#Now using the loaded train variable \n",
    "doc = nlp(text)"
   ]
  },
  {
   "cell_type": "code",
   "execution_count": 7,
   "id": "0bbba941",
   "metadata": {},
   "outputs": [
    {
     "data": {
      "text/plain": [
       "The Earth plays a vital role in our lives. It provides us with habitat, water, food, etc. \n",
       "The Earth came into existence millions of years ago, and there have been billions of animals and humans that have \n",
       "walked the same Earth as we do now. The Earth is home to over 5 million species of plants and animals, most of which \n",
       "have still not been identified or recorded. Essay on Earth in English is a common subject in schools as it is an \n",
       "important topic for children to think about and discuss. The Earth can be studied and written about in many different \n",
       "ways; you can write about it in terms of climate change, species, land formation, water composition and even the formation \n",
       "of the solar system and Earth’s position in it. The possibilities are endless! Here, we will discuss essay on Earth for\n",
       "class 1, 2 & 3 for kids."
      ]
     },
     "execution_count": 7,
     "metadata": {},
     "output_type": "execute_result"
    }
   ],
   "source": [
    "doc #All the sentences are stored in it"
   ]
  },
  {
   "cell_type": "code",
   "execution_count": 8,
   "id": "0cf1bdd3",
   "metadata": {},
   "outputs": [],
   "source": [
    "#Now using tokenization and removing stoppers from the text\n",
    "\n",
    "#it is done to filter out common word like punctuation mark \n",
    "tokens=[token.text.lower() for token in doc \n",
    "        if not token.is_stop and not token.is_punct and token.text!='\\n' ]"
   ]
  },
  {
   "cell_type": "code",
   "execution_count": 9,
   "id": "109a4180",
   "metadata": {},
   "outputs": [
    {
     "data": {
      "text/plain": [
       "['earth',\n",
       " 'plays',\n",
       " 'vital',\n",
       " 'role',\n",
       " 'lives',\n",
       " 'provides',\n",
       " 'habitat',\n",
       " 'water',\n",
       " 'food',\n",
       " 'etc',\n",
       " 'earth',\n",
       " 'came',\n",
       " 'existence',\n",
       " 'millions',\n",
       " 'years',\n",
       " 'ago',\n",
       " 'billions',\n",
       " 'animals',\n",
       " 'humans',\n",
       " 'walked',\n",
       " 'earth',\n",
       " 'earth',\n",
       " 'home',\n",
       " '5',\n",
       " 'million',\n",
       " 'species',\n",
       " 'plants',\n",
       " 'animals',\n",
       " 'identified',\n",
       " 'recorded',\n",
       " 'essay',\n",
       " 'earth',\n",
       " 'english',\n",
       " 'common',\n",
       " 'subject',\n",
       " 'schools',\n",
       " 'important',\n",
       " 'topic',\n",
       " 'children',\n",
       " 'think',\n",
       " 'discuss',\n",
       " 'earth',\n",
       " 'studied',\n",
       " 'written',\n",
       " 'different',\n",
       " 'ways',\n",
       " 'write',\n",
       " 'terms',\n",
       " 'climate',\n",
       " 'change',\n",
       " 'species',\n",
       " 'land',\n",
       " 'formation',\n",
       " 'water',\n",
       " 'composition',\n",
       " 'formation',\n",
       " 'solar',\n",
       " 'system',\n",
       " 'earth',\n",
       " 'position',\n",
       " 'possibilities',\n",
       " 'endless',\n",
       " 'discuss',\n",
       " 'essay',\n",
       " 'earth',\n",
       " 'class',\n",
       " '1',\n",
       " '2',\n",
       " '3',\n",
       " 'kids']"
      ]
     },
     "execution_count": 9,
     "metadata": {},
     "output_type": "execute_result"
    }
   ],
   "source": [
    "tokens"
   ]
  },
  {
   "cell_type": "code",
   "execution_count": 10,
   "id": "59e5fa2a",
   "metadata": {},
   "outputs": [],
   "source": [
    "#Another way to find the tokens\n",
    "token1=[]\n",
    "stopWords=list(STOP_WORDS)\n",
    "allowed_pos=['ADJ','PROPN','VERB','NOUN']\n",
    "for token in doc:\n",
    "    if(token.text in stopWords or token.text in punctuation):\n",
    "        continue\n",
    "    if(token.pos_ in allowed_pos):\n",
    "        token1.append(token.text)"
   ]
  },
  {
   "cell_type": "code",
   "execution_count": 11,
   "id": "46924535",
   "metadata": {},
   "outputs": [
    {
     "data": {
      "text/plain": [
       "['Earth',\n",
       " 'plays',\n",
       " 'vital',\n",
       " 'role',\n",
       " 'lives',\n",
       " 'provides',\n",
       " 'habitat',\n",
       " 'water',\n",
       " 'food',\n",
       " 'Earth',\n",
       " 'came',\n",
       " 'existence',\n",
       " 'millions',\n",
       " 'years',\n",
       " 'billions',\n",
       " 'animals',\n",
       " 'humans',\n",
       " 'walked',\n",
       " 'Earth',\n",
       " 'Earth',\n",
       " 'home',\n",
       " 'species',\n",
       " 'plants',\n",
       " 'animals',\n",
       " 'identified',\n",
       " 'recorded',\n",
       " 'Essay',\n",
       " 'Earth',\n",
       " 'English',\n",
       " 'common',\n",
       " 'subject',\n",
       " 'schools',\n",
       " 'important',\n",
       " 'topic',\n",
       " 'children',\n",
       " 'think',\n",
       " 'discuss',\n",
       " 'Earth',\n",
       " 'studied',\n",
       " 'written',\n",
       " 'different',\n",
       " 'ways',\n",
       " 'write',\n",
       " 'terms',\n",
       " 'climate',\n",
       " 'change',\n",
       " 'species',\n",
       " 'land',\n",
       " 'formation',\n",
       " 'water',\n",
       " 'composition',\n",
       " 'formation',\n",
       " 'solar',\n",
       " 'system',\n",
       " 'Earth',\n",
       " 'position',\n",
       " 'possibilities',\n",
       " 'endless',\n",
       " 'discuss',\n",
       " 'essay',\n",
       " 'Earth',\n",
       " 'class',\n",
       " 'kids']"
      ]
     },
     "execution_count": 11,
     "metadata": {},
     "output_type": "execute_result"
    }
   ],
   "source": [
    "token1"
   ]
  },
  {
   "cell_type": "code",
   "execution_count": 12,
   "id": "d63d0736",
   "metadata": {},
   "outputs": [],
   "source": [
    "#Calculating freq of words in tokens\n",
    "from collections import Counter"
   ]
  },
  {
   "cell_type": "code",
   "execution_count": 14,
   "id": "0edfc167",
   "metadata": {},
   "outputs": [],
   "source": [
    "word_freq=Counter(tokens)"
   ]
  },
  {
   "cell_type": "code",
   "execution_count": 15,
   "id": "2c09b0b0",
   "metadata": {},
   "outputs": [
    {
     "data": {
      "text/plain": [
       "Counter({'earth': 8,\n",
       "         'water': 2,\n",
       "         'animals': 2,\n",
       "         'species': 2,\n",
       "         'essay': 2,\n",
       "         'discuss': 2,\n",
       "         'formation': 2,\n",
       "         'plays': 1,\n",
       "         'vital': 1,\n",
       "         'role': 1,\n",
       "         'lives': 1,\n",
       "         'provides': 1,\n",
       "         'habitat': 1,\n",
       "         'food': 1,\n",
       "         'etc': 1,\n",
       "         'came': 1,\n",
       "         'existence': 1,\n",
       "         'millions': 1,\n",
       "         'years': 1,\n",
       "         'ago': 1,\n",
       "         'billions': 1,\n",
       "         'humans': 1,\n",
       "         'walked': 1,\n",
       "         'home': 1,\n",
       "         '5': 1,\n",
       "         'million': 1,\n",
       "         'plants': 1,\n",
       "         'identified': 1,\n",
       "         'recorded': 1,\n",
       "         'english': 1,\n",
       "         'common': 1,\n",
       "         'subject': 1,\n",
       "         'schools': 1,\n",
       "         'important': 1,\n",
       "         'topic': 1,\n",
       "         'children': 1,\n",
       "         'think': 1,\n",
       "         'studied': 1,\n",
       "         'written': 1,\n",
       "         'different': 1,\n",
       "         'ways': 1,\n",
       "         'write': 1,\n",
       "         'terms': 1,\n",
       "         'climate': 1,\n",
       "         'change': 1,\n",
       "         'land': 1,\n",
       "         'composition': 1,\n",
       "         'solar': 1,\n",
       "         'system': 1,\n",
       "         'position': 1,\n",
       "         'possibilities': 1,\n",
       "         'endless': 1,\n",
       "         'class': 1,\n",
       "         '1': 1,\n",
       "         '2': 1,\n",
       "         '3': 1,\n",
       "         'kids': 1})"
      ]
     },
     "execution_count": 15,
     "metadata": {},
     "output_type": "execute_result"
    }
   ],
   "source": [
    "word_freq"
   ]
  },
  {
   "cell_type": "code",
   "execution_count": 18,
   "id": "06761ea1",
   "metadata": {},
   "outputs": [
    {
     "data": {
      "text/plain": [
       "8"
      ]
     },
     "execution_count": 18,
     "metadata": {},
     "output_type": "execute_result"
    }
   ],
   "source": [
    "max_freq=max(word_freq.values())\n",
    "max_freq"
   ]
  },
  {
   "cell_type": "code",
   "execution_count": 19,
   "id": "a7aefa70",
   "metadata": {},
   "outputs": [],
   "source": [
    "#normalized all words\n",
    "for word in word_freq.keys():\n",
    "    word_freq[word]=word_freq[word]/max_freq"
   ]
  },
  {
   "cell_type": "code",
   "execution_count": 20,
   "id": "9911d55c",
   "metadata": {},
   "outputs": [
    {
     "data": {
      "text/plain": [
       "Counter({'earth': 1.0,\n",
       "         'water': 0.25,\n",
       "         'animals': 0.25,\n",
       "         'species': 0.25,\n",
       "         'essay': 0.25,\n",
       "         'discuss': 0.25,\n",
       "         'formation': 0.25,\n",
       "         'plays': 0.125,\n",
       "         'vital': 0.125,\n",
       "         'role': 0.125,\n",
       "         'lives': 0.125,\n",
       "         'provides': 0.125,\n",
       "         'habitat': 0.125,\n",
       "         'food': 0.125,\n",
       "         'etc': 0.125,\n",
       "         'came': 0.125,\n",
       "         'existence': 0.125,\n",
       "         'millions': 0.125,\n",
       "         'years': 0.125,\n",
       "         'ago': 0.125,\n",
       "         'billions': 0.125,\n",
       "         'humans': 0.125,\n",
       "         'walked': 0.125,\n",
       "         'home': 0.125,\n",
       "         '5': 0.125,\n",
       "         'million': 0.125,\n",
       "         'plants': 0.125,\n",
       "         'identified': 0.125,\n",
       "         'recorded': 0.125,\n",
       "         'english': 0.125,\n",
       "         'common': 0.125,\n",
       "         'subject': 0.125,\n",
       "         'schools': 0.125,\n",
       "         'important': 0.125,\n",
       "         'topic': 0.125,\n",
       "         'children': 0.125,\n",
       "         'think': 0.125,\n",
       "         'studied': 0.125,\n",
       "         'written': 0.125,\n",
       "         'different': 0.125,\n",
       "         'ways': 0.125,\n",
       "         'write': 0.125,\n",
       "         'terms': 0.125,\n",
       "         'climate': 0.125,\n",
       "         'change': 0.125,\n",
       "         'land': 0.125,\n",
       "         'composition': 0.125,\n",
       "         'solar': 0.125,\n",
       "         'system': 0.125,\n",
       "         'position': 0.125,\n",
       "         'possibilities': 0.125,\n",
       "         'endless': 0.125,\n",
       "         'class': 0.125,\n",
       "         '1': 0.125,\n",
       "         '2': 0.125,\n",
       "         '3': 0.125,\n",
       "         'kids': 0.125})"
      ]
     },
     "execution_count": 20,
     "metadata": {},
     "output_type": "execute_result"
    }
   ],
   "source": [
    "word_freq"
   ]
  },
  {
   "cell_type": "code",
   "execution_count": 21,
   "id": "ef60ac76",
   "metadata": {},
   "outputs": [],
   "source": [
    "sent_token=[sent.text for sent in doc.sents]"
   ]
  },
  {
   "cell_type": "code",
   "execution_count": 22,
   "id": "9c46feac",
   "metadata": {},
   "outputs": [
    {
     "data": {
      "text/plain": [
       "['The Earth plays a vital role in our lives.',\n",
       " 'It provides us with habitat, water, food, etc. \\n',\n",
       " 'The Earth came into existence millions of years ago, and there have been billions of animals and humans that have \\nwalked the same Earth as we do now.',\n",
       " 'The Earth is home to over 5 million species of plants and animals, most of which \\nhave still not been identified or recorded.',\n",
       " 'Essay on Earth in English is a common subject in schools as it is an \\nimportant topic for children to think about and discuss.',\n",
       " 'The Earth can be studied and written about in many different \\nways; you can write about it in terms of climate change, species, land formation, water composition and even the formation \\nof the solar system and Earth’s position in it.',\n",
       " 'The possibilities are endless!',\n",
       " 'Here, we will discuss essay on Earth for\\nclass 1, 2 & 3 for kids.']"
      ]
     },
     "execution_count": 22,
     "metadata": {},
     "output_type": "execute_result"
    }
   ],
   "source": [
    "sent_token"
   ]
  },
  {
   "cell_type": "code",
   "execution_count": null,
   "id": "c145e9b0",
   "metadata": {},
   "outputs": [],
   "source": []
  },
  {
   "cell_type": "code",
   "execution_count": null,
   "id": "69eba9b2",
   "metadata": {},
   "outputs": [],
   "source": []
  },
  {
   "cell_type": "code",
   "execution_count": null,
   "id": "e38fe3cf",
   "metadata": {},
   "outputs": [],
   "source": []
  }
 ],
 "metadata": {
  "kernelspec": {
   "display_name": "base",
   "language": "python",
   "name": "python3"
  },
  "language_info": {
   "codemirror_mode": {
    "name": "ipython",
    "version": 3
   },
   "file_extension": ".py",
   "mimetype": "text/x-python",
   "name": "python",
   "nbconvert_exporter": "python",
   "pygments_lexer": "ipython3",
   "version": "3.11.5"
  }
 },
 "nbformat": 4,
 "nbformat_minor": 5
}
