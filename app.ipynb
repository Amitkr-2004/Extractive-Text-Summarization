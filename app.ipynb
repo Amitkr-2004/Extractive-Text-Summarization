{
 "cells": [
  {
   "cell_type": "markdown",
   "id": "6b2420be",
   "metadata": {},
   "source": [
    "Extractive Text Summarization using NLP Techniques"
   ]
  },
  {
   "cell_type": "code",
   "execution_count": 37,
   "id": "d90d38ca",
   "metadata": {},
   "outputs": [],
   "source": [
    "#In Extractive text Summarization, the summary is created by selecting and extracting important sentences or phrases\n",
    "#directly from the original text without any modification  "
   ]
  },
  {
   "cell_type": "code",
   "execution_count": 38,
   "id": "c44170f0",
   "metadata": {},
   "outputs": [],
   "source": [
    "#Text->>\n",
    "\n",
    "text = \"\"\"The Earth plays a vital role in our lives. It provides us with habitat, water, food, etc. \n",
    "The Earth came into existence millions of years ago, and there have been billions of animals and humans that have \n",
    "walked the same Earth as we do now. The Earth is home to over 5 million species of plants and animals, most of which \n",
    "have still not been identified or recorded. Essay on Earth in English is a common subject in schools as it is an \n",
    "important topic for children to think about and discuss. The Earth can be studied and written about in many different \n",
    "ways; you can write about it in terms of climate change, species, land formation, water composition and even the formation \n",
    "of the solar system and Earth’s position in it. The possibilities are endless! Here, we will discuss essay on Earth for\n",
    "class 1, 2 & 3 for kids.\"\"\""
   ]
  },
  {
   "cell_type": "code",
   "execution_count": 39,
   "id": "9c06622b",
   "metadata": {},
   "outputs": [
    {
     "data": {
      "text/plain": [
       "825"
      ]
     },
     "execution_count": 39,
     "metadata": {},
     "output_type": "execute_result"
    }
   ],
   "source": [
    "#Counting Characters in our Text\n",
    "len(text)"
   ]
  },
  {
   "cell_type": "code",
   "execution_count": 40,
   "id": "4f7a3a5d",
   "metadata": {},
   "outputs": [],
   "source": [
    "#Importing all the libraries those are required\n",
    "import spacy\n",
    "\n",
    "#rest 2 libraries we are using for text cleaning\n",
    "from spacy.lang.en.stop_words import STOP_WORDS\n",
    "from string import punctuation"
   ]
  },
  {
   "cell_type": "code",
   "execution_count": 42,
   "id": "50c5deea",
   "metadata": {},
   "outputs": [],
   "source": [
    "nlp = spacy.load('en_core_web_sm')"
   ]
  },
  {
   "cell_type": "code",
   "execution_count": 46,
   "id": "b62e31b8",
   "metadata": {},
   "outputs": [],
   "source": [
    "#Now using the loaded train variable \n",
    "doc = nlp(text)"
   ]
  },
  {
   "cell_type": "code",
   "execution_count": null,
   "id": "0bbba941",
   "metadata": {},
   "outputs": [],
   "source": [
    "doc #All the sentences are stored in it"
   ]
  },
  {
   "cell_type": "code",
   "execution_count": null,
   "id": "0cf1bdd3",
   "metadata": {},
   "outputs": [],
   "source": [
    "#Now using tokenization and removing stoppers from the text"
   ]
  },
  {
   "cell_type": "code",
   "execution_count": null,
   "id": "109a4180",
   "metadata": {},
   "outputs": [],
   "source": []
  }
 ],
 "metadata": {
  "kernelspec": {
   "display_name": "base",
   "language": "python",
   "name": "python3"
  },
  "language_info": {
   "codemirror_mode": {
    "name": "ipython",
    "version": 3
   },
   "file_extension": ".py",
   "mimetype": "text/x-python",
   "name": "python",
   "nbconvert_exporter": "python",
   "pygments_lexer": "ipython3",
   "version": "3.11.5"
  }
 },
 "nbformat": 4,
 "nbformat_minor": 5
}
